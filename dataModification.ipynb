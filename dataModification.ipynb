{
 "cells": [
  {
   "cell_type": "code",
   "execution_count": 1,
   "metadata": {},
   "outputs": [
    {
     "name": "stdout",
     "output_type": "stream",
     "text": [
      "Requirement already satisfied: jsonlines in /Users/UgShanYu/opt/anaconda3/lib/python3.9/site-packages (4.0.0)\n",
      "Requirement already satisfied: attrs>=19.2.0 in /Users/UgShanYu/opt/anaconda3/lib/python3.9/site-packages (from jsonlines) (21.4.0)\n"
     ]
    }
   ],
   "source": [
    "!pip install jsonlines"
   ]
  },
  {
   "cell_type": "code",
   "execution_count": 2,
   "metadata": {},
   "outputs": [
    {
     "name": "stderr",
     "output_type": "stream",
     "text": [
      "Found cached dataset json (/Users/UgShanYu/.cache/huggingface/datasets/ugshanyu___json/ugshanyu--1millionMongolianSentence-83e6d771d6f7476c/0.0.0/e347ab1c932092252e717ff3f949105a4dd28b27e842dd53157d2f72e276c2e4)\n"
     ]
    },
    {
     "data": {
      "application/vnd.jupyter.widget-view+json": {
       "model_id": "d0dc26162c7a49fb93abdde44431c1cd",
       "version_major": 2,
       "version_minor": 0
      },
      "text/plain": [
       "  0%|          | 0/1 [00:00<?, ?it/s]"
      ]
     },
     "metadata": {},
     "output_type": "display_data"
    }
   ],
   "source": [
    "from datasets import load_dataset\n",
    "import jsonlines\n",
    "\n",
    "# Load the dataset\n",
    "dataset = load_dataset(\"ugshanyu/1millionMongolianSentence\")"
   ]
  },
  {
   "cell_type": "code",
   "execution_count": 4,
   "metadata": {},
   "outputs": [
    {
     "data": {
      "application/vnd.jupyter.widget-view+json": {
       "model_id": "600ffb970d964b6d833123b51c02cd58",
       "version_major": 2,
       "version_minor": 0
      },
      "text/plain": [
       "Map:   0%|          | 0/1005815 [00:00<?, ? examples/s]"
      ]
     },
     "metadata": {},
     "output_type": "display_data"
    }
   ],
   "source": [
    "# from datasets import load_dataset\n",
    "# import jsonlines\n",
    "\n",
    "# # Load the dataset\n",
    "# dataset = load_dataset(\"ugshanyu/1millionMongolianSentence\")\n",
    "\n",
    "def add_length(example):\n",
    "    mongolian_sentence = example[\"Mongolian\"]\n",
    "    english_sentence = example[\"English\"]\n",
    "    instruction = \"Translate this Mongolian sentence into English ( \" + mongolian_sentence + \" ). A rough translation is acceptable; it does not have to be exact.\"\n",
    "    answer = \"Here's a rough, not exact, translation: \" + english_sentence + \"'\"\n",
    "    return {\"instruction\": instruction, \"answer\": answer}\n",
    "\n",
    "# Use the map method to apply the function to each example in the dataset\n",
    "newDataset = dataset.map(add_length, remove_columns=[\"English\", \"Mongolian\"], load_from_cache_file=False)\n",
    "\n",
    "# # Convert the dataset to a list of dictionaries\n",
    "# records = [example for example in modified_dataset['train']]"
   ]
  },
  {
   "cell_type": "code",
   "execution_count": 5,
   "metadata": {},
   "outputs": [],
   "source": [
    "# Convert the 'train' split of newDataset to a list of dictionaries\n",
    "records = [{k: v for k, v in zip(newDataset['train'].column_names, newDataset['train'][i].values())} for i in range(len(newDataset['train']))]\n",
    "\n",
    "# Now records is a list of dictionaries\n"
   ]
  },
  {
   "cell_type": "code",
   "execution_count": 6,
   "metadata": {},
   "outputs": [],
   "source": [
    "train_records = records[:800000]\n",
    "validation_record = records[800000:]"
   ]
  },
  {
   "cell_type": "code",
   "execution_count": 7,
   "metadata": {},
   "outputs": [
    {
     "data": {
      "text/plain": [
       "205815"
      ]
     },
     "execution_count": 7,
     "metadata": {},
     "output_type": "execute_result"
    }
   ],
   "source": [
    "len(validation_record)"
   ]
  },
  {
   "cell_type": "code",
   "execution_count": 11,
   "metadata": {},
   "outputs": [
    {
     "name": "stdout",
     "output_type": "stream",
     "text": [
      "Training set saved as train.jsonl\n"
     ]
    }
   ],
   "source": [
    "with jsonlines.open('trainBackUp1Million.jsonl', mode='w') as writer:\n",
    "    writer.write_all(train_records)\n",
    "\n",
    "print(\"Training set saved as train.jsonl\")\n"
   ]
  },
  {
   "cell_type": "code",
   "execution_count": 10,
   "metadata": {},
   "outputs": [
    {
     "name": "stdout",
     "output_type": "stream",
     "text": [
      "Validation set saved as validation.jsonl\n"
     ]
    }
   ],
   "source": [
    "# Save the validation set as validation.jsonl\n",
    "with jsonlines.open('validBackUp1Million.jsonl', mode='w') as writer:\n",
    "    writer.write_all(validation_record)\n",
    "\n",
    "print(\"Validation set saved as validation.jsonl\")"
   ]
  },
  {
   "cell_type": "code",
   "execution_count": null,
   "metadata": {},
   "outputs": [],
   "source": []
  }
 ],
 "metadata": {
  "kernelspec": {
   "display_name": "Python 3.9.13 ('base')",
   "language": "python",
   "name": "python3"
  },
  "language_info": {
   "codemirror_mode": {
    "name": "ipython",
    "version": 3
   },
   "file_extension": ".py",
   "mimetype": "text/x-python",
   "name": "python",
   "nbconvert_exporter": "python",
   "pygments_lexer": "ipython3",
   "version": "3.9.13"
  },
  "orig_nbformat": 4,
  "vscode": {
   "interpreter": {
    "hash": "1d3a11a3845273675a43b696e3dc6fe925683b5b9a52834ebe4982d1cd0896b6"
   }
  }
 },
 "nbformat": 4,
 "nbformat_minor": 2
}
